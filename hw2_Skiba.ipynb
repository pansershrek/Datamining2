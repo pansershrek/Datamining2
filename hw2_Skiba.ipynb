{
 "cells": [
  {
   "cell_type": "markdown",
   "metadata": {
    "deletable": true,
    "editable": true
   },
   "source": [
    "# Алгоритмы интеллектуальной обработки больших объемов данных\n",
    "## Домашнее задание №2 - Алгоритмы кластеризации\n"
   ]
  },
  {
   "cell_type": "markdown",
   "metadata": {
    "deletable": true,
    "editable": true
   },
   "source": [
    "###### <hr\\>\n",
    "**Общая информация**\n",
    "\n",
    "**Срок сдачи:** 13 марта 2017, 06:00 <br\\>\n",
    "**Штраф за опоздание:** -2 балла после 06:00 13 марта, -4 балла после 06:00 20 марта, -6 баллов после 06:00 27 марта\n",
    "\n",
    "Отправлять дз не нужно, нужно закоммитить в github. Сдается дз лично преподавателю на рубежном контроле (13 марта)\n",
    "\n",
    "Используйте данный Ipython Notebook при оформлении домашнего задания.\n",
    "<hr\\>"
   ]
  },
  {
   "cell_type": "markdown",
   "metadata": {
    "deletable": true,
    "editable": true
   },
   "source": [
    "Основная задача этого задания - реализация одного из алгоритмов кластеризации. Кроме того, мы научимся подбирать параметры алгоритма, визуализируем результат кластеризации и попытаемся проанализировать природу полученных кластеров."
   ]
  },
  {
   "cell_type": "markdown",
   "metadata": {
    "deletable": true,
    "editable": true
   },
   "source": [
    "## Реализация алгоритма"
   ]
  },
  {
   "cell_type": "markdown",
   "metadata": {
    "deletable": true,
    "editable": true
   },
   "source": [
    "Cчитываем данные, полученные в результате выполнения домашнего задания из курса введения, в `data frame` библиотеки `pandas`. Достаем координаты и конвертируем в массив `numpy`. Возможно, в собранном вами файле кодировка будет иной."
   ]
  },
  {
   "cell_type": "code",
   "execution_count": 70,
   "metadata": {
    "collapsed": false,
    "deletable": true,
    "editable": true
   },
   "outputs": [
    {
     "ename": "ImportError",
     "evalue": "No module named folium",
     "output_type": "error",
     "traceback": [
      "\u001b[0;31m---------------------------------------------------------------------------\u001b[0m",
      "\u001b[0;31mImportError\u001b[0m                               Traceback (most recent call last)",
      "\u001b[0;32m<ipython-input-70-262be1f86d48>\u001b[0m in \u001b[0;36m<module>\u001b[0;34m()\u001b[0m\n\u001b[0;32m----> 1\u001b[0;31m \u001b[0;32mimport\u001b[0m \u001b[0mfolium\u001b[0m\u001b[0;34m\u001b[0m\u001b[0m\n\u001b[0m\u001b[1;32m      2\u001b[0m \u001b[0;32mimport\u001b[0m \u001b[0mseaborn\u001b[0m \u001b[0;32mas\u001b[0m \u001b[0msns\u001b[0m\u001b[0;34m\u001b[0m\u001b[0m\n\u001b[1;32m      3\u001b[0m \u001b[0;32mfrom\u001b[0m \u001b[0mfolium\u001b[0m\u001b[0;34m.\u001b[0m\u001b[0mplugins\u001b[0m \u001b[0;32mimport\u001b[0m \u001b[0mMarkerCluster\u001b[0m\u001b[0;34m\u001b[0m\u001b[0m\n\u001b[1;32m      4\u001b[0m \u001b[0;34m\u001b[0m\u001b[0m\n\u001b[1;32m      5\u001b[0m \u001b[0;32mfrom\u001b[0m \u001b[0mcollections\u001b[0m \u001b[0;32mimport\u001b[0m \u001b[0mCounter\u001b[0m\u001b[0;34m\u001b[0m\u001b[0m\n",
      "\u001b[0;31mImportError\u001b[0m: No module named folium"
     ]
    }
   ],
   "source": [
    "import folium\n",
    "import seaborn as sns\n",
    "from folium.plugins import MarkerCluster\n",
    "\n",
    "from collections import Counter\n",
    "import pandas as pd\n",
    "import pylab as pl\n",
    "import numpy as np\n",
    "import scipy.spatial as ss\n",
    "import sklearn.cluster as sc\n",
    "import sklearn.manifold as sm\n",
    "import sklearn.datasets as ds\n",
    "import sklearn.metrics as smt\n",
    "\n",
    "from numba import jit\n",
    "from line_profiler import LineProfiler\n",
    "%load_ext Cython\n",
    "\n",
    "import matplotlib.pyplot as plt\n",
    "import mpl_toolkits.basemap as bm\n",
    "\n",
    "%matplotlib inline\n",
    "\n",
    "plt.style.use('ggplot')\n",
    "plt.rcParams['figure.figsize'] = (12,5)\n",
    "\n",
    "#Plotting config\n",
    "%pylab inline"
   ]
  },
  {
   "cell_type": "code",
   "execution_count": 2,
   "metadata": {
    "collapsed": false,
    "deletable": true,
    "editable": true
   },
   "outputs": [
    {
     "data": {
      "text/html": [
       "<div>\n",
       "<table border=\"1\" class=\"dataframe\">\n",
       "  <thead>\n",
       "    <tr style=\"text-align: right;\">\n",
       "      <th></th>\n",
       "      <th>address</th>\n",
       "      <th>checkins</th>\n",
       "      <th>city</th>\n",
       "      <th>country</th>\n",
       "      <th>created</th>\n",
       "      <th>icon</th>\n",
       "      <th>latitude</th>\n",
       "      <th>longitude</th>\n",
       "      <th>pid</th>\n",
       "      <th>title</th>\n",
       "      <th>type</th>\n",
       "      <th>updated</th>\n",
       "    </tr>\n",
       "  </thead>\n",
       "  <tbody>\n",
       "    <tr>\n",
       "      <th>0</th>\n",
       "      <td>Мячковский б-р 3а</td>\n",
       "      <td>435</td>\n",
       "      <td>1</td>\n",
       "      <td>1</td>\n",
       "      <td>1280741941</td>\n",
       "      <td>https://vk.com/images/places/clubs.png</td>\n",
       "      <td>55.657941</td>\n",
       "      <td>37.751574</td>\n",
       "      <td>1</td>\n",
       "      <td>Baila Baila</td>\n",
       "      <td>4</td>\n",
       "      <td>1.487519e+09</td>\n",
       "    </tr>\n",
       "    <tr>\n",
       "      <th>1</th>\n",
       "      <td>Дачная 2а</td>\n",
       "      <td>14</td>\n",
       "      <td>123</td>\n",
       "      <td>1</td>\n",
       "      <td>1280741941</td>\n",
       "      <td>https://vk.com/images/places/clubs.png</td>\n",
       "      <td>53.202017</td>\n",
       "      <td>50.141377</td>\n",
       "      <td>2</td>\n",
       "      <td>Lust</td>\n",
       "      <td>4</td>\n",
       "      <td>1.483478e+09</td>\n",
       "    </tr>\n",
       "    <tr>\n",
       "      <th>2</th>\n",
       "      <td>Лени Голикова 29</td>\n",
       "      <td>8</td>\n",
       "      <td>2</td>\n",
       "      <td>1</td>\n",
       "      <td>1280741941</td>\n",
       "      <td>https://vk.com/images/places/clubs.png</td>\n",
       "      <td>59.843376</td>\n",
       "      <td>30.231480</td>\n",
       "      <td>3</td>\n",
       "      <td>Тайфун</td>\n",
       "      <td>4</td>\n",
       "      <td>1.486398e+09</td>\n",
       "    </tr>\n",
       "    <tr>\n",
       "      <th>3</th>\n",
       "      <td>Героев Танкограда 63</td>\n",
       "      <td>8</td>\n",
       "      <td>158</td>\n",
       "      <td>1</td>\n",
       "      <td>1280741941</td>\n",
       "      <td>https://vk.com/images/places/clubs.png</td>\n",
       "      <td>55.174954</td>\n",
       "      <td>61.451611</td>\n",
       "      <td>4</td>\n",
       "      <td>Hollywood</td>\n",
       "      <td>4</td>\n",
       "      <td>1.470157e+09</td>\n",
       "    </tr>\n",
       "    <tr>\n",
       "      <th>4</th>\n",
       "      <td>Мусы Джалиля 14К1</td>\n",
       "      <td>38</td>\n",
       "      <td>99</td>\n",
       "      <td>1</td>\n",
       "      <td>1280741941</td>\n",
       "      <td>https://vk.com/images/places/clubs.png</td>\n",
       "      <td>54.860834</td>\n",
       "      <td>83.091932</td>\n",
       "      <td>5</td>\n",
       "      <td>Барабас</td>\n",
       "      <td>4</td>\n",
       "      <td>1.488720e+09</td>\n",
       "    </tr>\n",
       "  </tbody>\n",
       "</table>\n",
       "</div>"
      ],
      "text/plain": [
       "                address  checkins  city  country     created  \\\n",
       "0     Мячковский б-р 3а       435     1        1  1280741941   \n",
       "1             Дачная 2а        14   123        1  1280741941   \n",
       "2      Лени Голикова 29         8     2        1  1280741941   \n",
       "3  Героев Танкограда 63         8   158        1  1280741941   \n",
       "4     Мусы Джалиля 14К1        38    99        1  1280741941   \n",
       "\n",
       "                                     icon   latitude  longitude  pid  \\\n",
       "0  https://vk.com/images/places/clubs.png  55.657941  37.751574    1   \n",
       "1  https://vk.com/images/places/clubs.png  53.202017  50.141377    2   \n",
       "2  https://vk.com/images/places/clubs.png  59.843376  30.231480    3   \n",
       "3  https://vk.com/images/places/clubs.png  55.174954  61.451611    4   \n",
       "4  https://vk.com/images/places/clubs.png  54.860834  83.091932    5   \n",
       "\n",
       "         title  type       updated  \n",
       "0  Baila Baila     4  1.487519e+09  \n",
       "1         Lust     4  1.483478e+09  \n",
       "2       Тайфун     4  1.486398e+09  \n",
       "3    Hollywood     4  1.470157e+09  \n",
       "4      Барабас     4  1.488720e+09  "
      ]
     },
     "execution_count": 2,
     "metadata": {},
     "output_type": "execute_result"
    }
   ],
   "source": [
    "#data_df = pd.read_csv('dataset.csv', sep=\",\", header=0, encoding='windows-1251')\n",
    "#data_df.head()\n",
    "data_df = pd.read_csv('dataset.csv',sep='\\t', encoding='utf-8')\n",
    "del data_df['Unnamed: 0']\n",
    "data_df.head()\n"
   ]
  },
  {
   "cell_type": "code",
   "execution_count": 61,
   "metadata": {
    "collapsed": false,
    "deletable": true,
    "editable": true
   },
   "outputs": [
    {
     "data": {
      "text/plain": [
       "array([[ 55.657941,  37.751574],\n",
       "       [ 53.202017,  50.141377],\n",
       "       [ 59.843376,  30.23148 ],\n",
       "       ..., \n",
       "       [ 55.76363 ,  37.597046],\n",
       "       [ 56.002732,  37.209755],\n",
       "       [ 47.225695,  39.72997 ]])"
      ]
     },
     "execution_count": 61,
     "metadata": {},
     "output_type": "execute_result"
    }
   ],
   "source": [
    "x = data_df[['latitude', 'longitude']].values\n",
    "x\n",
    "#print x\n",
    "#y=x[0:1]\n",
    "#print y\n",
    "#y=np.concatenate((y,x),axis=0)\n",
    "#print y"
   ]
  },
  {
   "cell_type": "code",
   "execution_count": null,
   "metadata": {
    "collapsed": false
   },
   "outputs": [],
   "source": []
  },
  {
   "cell_type": "markdown",
   "metadata": {
    "deletable": true,
    "editable": true
   },
   "source": [
    "Алгоритм кластеризации, который необходимо реализовать, выбирается на основании Вашего порядкового номера в списке группы."
   ]
  },
  {
   "cell_type": "markdown",
   "metadata": {
    "deletable": true,
    "editable": true
   },
   "source": [
    "1 Баранчиков Максим\t\n",
    "2 Бекбулатов Рамзан\t\n",
    "3 Белозёров Михаил\t\n",
    "4 Бобылев Владислав\t\n",
    "5 Брызгалов Антон\t\n",
    "6 Будюк Алексей\t\n",
    "7 Валиуллин Альберт\t\n",
    "8 Валиуллин Артур\t\n",
    "9 Васильев Евгений\t\n",
    "10 Галицкий Игорь\t\n",
    "11 Горшков Сергей\t\n",
    "12 Гусев Вячеслав\t\n",
    "13 Дегтярев Роман\t\n",
    "14 Дементьев Максим\t\n",
    "15 Елохов Артур\t\n",
    "16 Ефимов Владислав\t\n",
    "17 Зайцев Александр\t\n",
    "18 Ильин Иван\t\n",
    "19 Имеев Мерген\t\n",
    "20 Камалбеков Тимур\t\n",
    "21 Капитонов Александр\t\n",
    "22 Каспарьянц Георгий\t\n",
    "23 Кафанов Олег\t\n",
    "24 Клейменов Андрей\t\n",
    "25 Козлов Иван\t\n",
    "26 Колмакова Татьяна\t\n",
    "27 Комов Евгений\t\n",
    "28 Крылов Иван\t\n",
    "29 Кузьмина Ирина\t\n",
    "30 Куклева Анна\t\n",
    "31 Курьянов Илья\t\n",
    "32 Лобанов Алексей\t\n",
    "33 Лозинский Иван\t\n",
    "34 Лузин Игорь\t\n",
    "35 Лукьянчиков Иван\t\n",
    "36 Неред Максим\t\n",
    "37 Новикова Анастасия\t\n",
    "38 Новичков Сергей\t\n",
    "39 Омаров Темирхан\t\n",
    "40 Павлова Анастасия\t\n",
    "41 Петренко Иван\t\n",
    "42 Пилюгин Вадим\t\n",
    "43 Плошкин Александр\t\n",
    "44 Полякова Вера\t\n",
    "45 Попкова Екатерина\t\n",
    "46 Преображенский Анатолий\t\n",
    "47 Пронин Сергей\t\n",
    "48 Пучкин Данила\t\n",
    "49 Рогачев Александр\t\n",
    "50 Руденко Дмитрий\t\n",
    "51 Рыбаков Владислав\t\n",
    "52 Санников Артём\t\n",
    "53 Скиба Глеб\t\n",
    "54 Страдомский Сергей\t\n",
    "55 Тескер Константин\t\n",
    "56 Трифанов Петр\t\n",
    "57 Хапкин Артем\t\n",
    "58 Хорошенький Илья\t\n",
    "59 Чокля Дмитрий\t\n",
    "60 Шмурак Денис\t\n",
    "61 Щербакова Елена\t"
   ]
  },
  {
   "cell_type": "code",
   "execution_count": 29,
   "metadata": {
    "collapsed": true,
    "deletable": true,
    "editable": true
   },
   "outputs": [],
   "source": [
    "N = 53 # put your index here"
   ]
  },
  {
   "cell_type": "code",
   "execution_count": 30,
   "metadata": {
    "collapsed": false,
    "deletable": true,
    "editable": true
   },
   "outputs": [
    {
     "name": "stdout",
     "output_type": "stream",
     "text": [
      "Реализуем алгоритм кластеризации 'Hierarchical clustering с поддержкой single-linkage, complete-linkage, average-linkage (параметры - k, linkage)'\n"
     ]
    }
   ],
   "source": [
    "algorithms = [\n",
    "    u\"Gaussian Mixture Model с использованием maximum a-posteriori для выбора кластера (параметр - k)\",\n",
    "    u\"Hierarchical clustering с поддержкой single-linkage, complete-linkage, average-linkage (параметры - k, linkage)\",\n",
    "    u\"DBSCAN. (параметры - epsilon, min_pts)\", \n",
    "    u\"OPTICS. (параметры - epsilon, min_pts)\"\n",
    "]\n",
    "\n",
    "my_algorithm = algorithms[N % len(algorithms)]\n",
    "print u\"Реализуем алгоритм кластеризации '%s'\" % my_algorithm"
   ]
  },
  {
   "cell_type": "markdown",
   "metadata": {
    "deletable": true,
    "editable": true
   },
   "source": [
    "Алгоритм кластеризации должен удовлетворять следующему интерфейсу. Конструктор принимает набор параметров, необходимых для работы алгоритма кластеризации. Метод `fit` подсчитывает параметры модели и возвращает `self`. Метод `predict` возвращает вектор с индексами кластеров для поданных в него объектов `x`"
   ]
  },
  {
   "cell_type": "code",
   "execution_count": 52,
   "metadata": {
    "collapsed": false,
    "deletable": true,
    "editable": true
   },
   "outputs": [],
   "source": [
    "%%cython \n",
    "import numpy as np\n",
    "cimport numpy as np\n",
    "\n",
    "from sklearn.base import BaseEstimator, ClusterMixin\n",
    "\n",
    "class Clustering(BaseEstimator, ClusterMixin):\n",
    "    \"\"\"\n",
    "    Implement clustering algorithm according \n",
    "    \"\"\"\n",
    "    \n",
    "    def __init__(self, **kwargs):\n",
    "        \"\"\"\n",
    "        Please add necessary algoritm parameters to class constructor.\n",
    "        \"\"\"\n",
    "        self.linkage='single'\n",
    "        #self.clast=[]\n",
    "        self.k=2;\n",
    "        return\n",
    "    ##############################################################\n",
    "    def __dist_elem(self,first,second):\n",
    "        sum = 0\n",
    "        #if (np.equal(first,second)).min():\n",
    "        #    return 0\n",
    "        #for i in xrange(int(first.shape[0])):\n",
    "        #    sum+=(first[i]-second[i])**2\n",
    "        mid = first - second\n",
    "        mid = mid * mid \n",
    "        sum = int(mid.sum())\n",
    "        return sum**0.5\n",
    "    ##############################################################\n",
    "    def __single_linkage(self,first,second):\n",
    "        #ans = inf\n",
    "        ans = 1000*1000\n",
    "        for i in xrange(int(first.shape[0])):\n",
    "            for j in xrange(int(second.shape[0])):\n",
    "                ans = min (ans,self.__dist_elem(first[i],second[j]))\n",
    "        return ans\n",
    "    def __complete_linkage(self,first,second):\n",
    "        #ans = -inf\n",
    "        ans = 1000*1000\n",
    "        ans = -ans\n",
    "        for i in xrange(int(first.shape[0])):\n",
    "            for j in xrange(int(second.shape[0])):\n",
    "                ans = max (ans,self.__dist_elem(first[i],second[j]))\n",
    "        return ans\n",
    "    def __average_linkage(self,first,second):\n",
    "        ans = 0\n",
    "        for i in xrange(int(first.shape[0])):\n",
    "            for j in xrange(int(second.shape[0])):\n",
    "                ans += self.__dist_elem(first[i],second[j])\n",
    "        ans /= (int)(first.shape[0])\n",
    "        ans /= (int)(second.shape[0])\n",
    "        return ans \n",
    "    def __metrrics(self,first,second):\n",
    "        ans = 0\n",
    "        if self.linkage == 'single':\n",
    "            ans = self.__single_linkage(first,second)\n",
    "        elif self.linkage == 'complete':\n",
    "            ans = self.__complete_linkage(first,second)\n",
    "        elif self.linkage == 'average':\n",
    "            ans = self.__average_linkage(first,second)\n",
    "        return ans\n",
    "        \n",
    "    ##############################################################\n",
    "    def __merge(self,first,second):\n",
    "        self.clast[first] = np.append(self.clast[first],self.clast[second],axis=0,)\n",
    "        self.clast.pop(second)\n",
    "  \n",
    "        return 0\n",
    "    ############################################################## \n",
    "    def fit(self, x, y=None, linkage = 'single', k=2 ):\n",
    "        \n",
    "        self.linkage = linkage\n",
    "        self.k = k\n",
    "        \n",
    "        N = int(x.shape[0])\n",
    "        C = N\n",
    "        self.clast = [x[i:i+1] for i in xrange(N)]\n",
    "        \n",
    "        #x= (x - x.mean(axis = 0)) / x.std(axis = 0)\n",
    "        while C>self.k:\n",
    "            C_a=C_b=0\n",
    "            #min_dist = inf\n",
    "            min_dist = 1000*1000  #it's my inf, because i want to use Cython\n",
    "            for i in xrange(C):\n",
    "                for j in xrange(i+1,C):\n",
    "                    dist = self.__metrrics(self.clast[i],self.clast[j])\n",
    "                    if dist<min_dist:\n",
    "                        C_a = i\n",
    "                        C_b = j\n",
    "                        min_dist = dist\n",
    "            self.__merge(C_a,C_b)\n",
    "            C-=1\n",
    "\n",
    "        return self\n",
    "    \n",
    "    def predict(self, x):\n",
    "        \"\"\"\n",
    "        Using computed model parameters predict cluster\n",
    "        for all objects from x\n",
    "        \"\"\"\n",
    "        N = int(x.shape[0])\n",
    "        ret_clast = [0 for i in xrange (N)]\n",
    "        d = {}\n",
    "        \n",
    "        for i in xrange(self.k):\n",
    "            d1 = {tuple(self.clast[i][j]) : i for j in xrange(int(self.clast[i].shape[0]))}\n",
    "            d.update(d1)\n",
    "        for i in xrange(N):\n",
    "            ret_clast[i] = d[tuple(x[i])]\n",
    "        ret_clast = np.array(ret_clast)\n",
    "        return ret_clast\n",
    "    \n",
    "    def fit_predict(self, x, y=None, linkage = 'single', k = 2):\n",
    "        \n",
    "        self.fit(x, y,linkage,k)\n",
    "        #profile_print(Clustering().fit, x_iris, pred_iris,'single', k)\n",
    "        return self.predict(x)"
   ]
  },
  {
   "cell_type": "code",
   "execution_count": 7,
   "metadata": {
    "collapsed": false,
    "deletable": true,
    "editable": true
   },
   "outputs": [
    {
     "data": {
      "text/plain": [
       "100"
      ]
     },
     "execution_count": 7,
     "metadata": {},
     "output_type": "execute_result"
    }
   ],
   "source": [
    "x_iris.shape[0]\n"
   ]
  },
  {
   "cell_type": "markdown",
   "metadata": {
    "deletable": true,
    "editable": true
   },
   "source": [
    "Сначала проверим реализованный алгоритм кластеризации на классическом наборе данных [Iris](http://www.wikiwand.com/en/Iris_flower_data_set). Загрузим данные (они включены в библиотеку sklearn) и посмотрим на то, как они выглядят в двух проекциях (для простоты используем 2 класса из 3)."
   ]
  },
  {
   "cell_type": "code",
   "execution_count": 30,
   "metadata": {
    "collapsed": false,
    "deletable": true,
    "editable": true
   },
   "outputs": [
    {
     "ename": "SyntaxError",
     "evalue": "invalid syntax (<ipython-input-30-5113eda926cb>, line 2)",
     "output_type": "error",
     "traceback": [
      "\u001b[0;36m  File \u001b[0;32m\"<ipython-input-30-5113eda926cb>\"\u001b[0;36m, line \u001b[0;32m2\u001b[0m\n\u001b[0;31m    iris = ds.load_iris()\u001b[0m\n\u001b[0m       ^\u001b[0m\n\u001b[0;31mSyntaxError\u001b[0m\u001b[0;31m:\u001b[0m invalid syntax\n"
     ]
    }
   ],
   "source": [
    "\n",
    "iris = ds.load_iris()\n",
    "x_iris = iris.data[:100]\n",
    "y_iris = iris.target[:100]\n",
    "\n",
    "pl.figure(figsize=(10, 5))\n",
    "\n",
    "pl.subplot(1, 2, 1)\n",
    "pl.scatter(x_iris[:, 0], x_iris[:, 1], c=y_iris, cmap=pl.cm.PuOr, lw=0, s=30)\n",
    "plt.xlabel('Sepal length')\n",
    "plt.ylabel('Sepal width')\n",
    "\n",
    "pl.subplot(1, 2, 2)\n",
    "pl.scatter(x_iris[:, 2], x_iris[:, 3], c=y_iris, cmap=pl.cm.PuOr, lw=0, s=30)\n",
    "plt.xlabel('Petal length')\n",
    "plt.ylabel('Petal width')\n",
    "pl.show()"
   ]
  },
  {
   "cell_type": "code",
   "execution_count": null,
   "metadata": {
    "collapsed": false,
    "deletable": true,
    "editable": true
   },
   "outputs": [],
   "source": []
  },
  {
   "cell_type": "markdown",
   "metadata": {
    "deletable": true,
    "editable": true
   },
   "source": [
    "Видно, что классы разделяются, поэтому можно надеяться, что наш алгоритм \"найдет\" кластеры, соответствующие исходным классам. Результат работы реализованного алгоритма кластеризации предлагается сравнить с эталонной кластеризацией. Для этого предлагается изучить метрику ([adjusted rand score](http://scikit-learn.org/stable/modules/generated/sklearn.metrics.adjusted_rand_score.html)). В случае если значение этой метрики отличается от 1, предлагается поработать над улучшением реализации своего алгоритма."
   ]
  },
  {
   "cell_type": "code",
   "execution_count": 35,
   "metadata": {
    "collapsed": false,
    "deletable": true,
    "editable": true,
    "scrolled": true
   },
   "outputs": [
    {
     "name": "stdout",
     "output_type": "stream",
     "text": [
      "Adjusted Rand index for iris is: 1.00\n"
     ]
    }
   ],
   "source": [
    "k = 2 #number of clusters\n",
    "x_iris = iris.data[:100]\n",
    "pred_iris = []\n",
    "pred_iris = Clustering().fit_predict(x_iris,pred_iris,'single',k)\n",
    "print \"Adjusted Rand index for iris is: %.2f\" % smt.adjusted_rand_score(y_iris, pred_iris)"
   ]
  },
  {
   "cell_type": "code",
   "execution_count": 32,
   "metadata": {
    "collapsed": true
   },
   "outputs": [],
   "source": [
    "\n",
    "def profile_print(func_to_call, *args):\n",
    "    profiler = LineProfiler()\n",
    "    profiler.add_function(func_to_call)\n",
    "    profiler.runcall(func_to_call, *args)\n",
    "    profiler.print_stats()"
   ]
  },
  {
   "cell_type": "code",
   "execution_count": 42,
   "metadata": {
    "collapsed": false
   },
   "outputs": [
    {
     "name": "stdout",
     "output_type": "stream",
     "text": [
      "1 loop, best of 3: 2.44 s per loop\n"
     ]
    }
   ],
   "source": [
    "%%timeit\n",
    "Clustering().fit_predict(x_iris,pred_iris,'single',k)"
   ]
  },
  {
   "cell_type": "markdown",
   "metadata": {
    "deletable": true,
    "editable": true
   },
   "source": [
    "Выбрать и реализовать критерий качества, на основании которого будут подбираться параметры модели. Варианты критериев:\n",
    "- Инерция (сумма квадратов расстояний от каждой из точек до ближайшего к этой точке центроида)\n",
    "- Средний диаметр (максимальное расстояние между точками в кластере) или радиус (расстояние от центроида до самой дальней от него точки в кластере)\n",
    "- Sihouette\n",
    "\n",
    "**Критерий качества необходимо выбрать таким образом, чтобы он подходил для реализованного алгоритма**"
   ]
  },
  {
   "cell_type": "code",
   "execution_count": 47,
   "metadata": {
    "collapsed": false,
    "deletable": true,
    "editable": true
   },
   "outputs": [],
   "source": [
    "\n",
    "def quality(x, y):\n",
    "    def dist(first,second):\n",
    "        sum = 0\n",
    "        #if (np.equal(first,second)).min():\n",
    "        #    return 0\n",
    "        #for i in xrange(int(first.shape[0])):\n",
    "        #    sum+=(first[i]-second[i])**2\n",
    "        mid = first - second\n",
    "        mid = mid * mid \n",
    "        sum = int(mid.sum())\n",
    "        return sum**0.5\n",
    "    \"\"\"\n",
    "    Implement quality criterion of your choice\n",
    "    \"\"\"\n",
    "    \n",
    "    silh = [0 for i in xrange(int(y.size))]\n",
    "    size_of_clast = Counter(y)\n",
    "    ans=0\n",
    "    k_n = len(size_of_clast)\n",
    "    #print size_of_clast\n",
    "    #print k_n\n",
    "    for i in xrange(int(y.size)):\n",
    "        \n",
    "        length = [0 for z in xrange(k_n)]\n",
    "        b = inf\n",
    "        a = inf\n",
    "        for j in xrange(int(y.size)):\n",
    "            \n",
    "            length[y[j]]+=dist(x[i],x[j])\n",
    "        for j in size_of_clast:\n",
    "            if (size_of_clast[j]>0):\n",
    "                if (j<>y[i]):\n",
    "                    #print size_of_clast\n",
    "                    #print length\n",
    "                    #print j\n",
    "                    #print 'kek'\n",
    "                    length[j]/=size_of_clast[j]\n",
    "                    b = min(b,length[j])\n",
    "                elif (size_of_clast[j]>1):\n",
    "                    \n",
    "                    length[j]/=(size_of_clast[j]-1)\n",
    "                    a = length[j]\n",
    "       \n",
    "        if (a<>0 and a<>inf):\n",
    "            if (b<>0 and b<>inf):\n",
    "                silh[i] = (b - a)/max(a,b)\n",
    "    ans = np.array(silh)\n",
    "    ans = float(ans.mean())\n",
    "    return ans"
   ]
  },
  {
   "cell_type": "code",
   "execution_count": 23,
   "metadata": {
    "collapsed": false,
    "deletable": true,
    "editable": true
   },
   "outputs": [],
   "source": [
    "q = quality(x_iris,pred_iris)"
   ]
  },
  {
   "cell_type": "code",
   "execution_count": 18,
   "metadata": {
    "collapsed": false,
    "deletable": true,
    "editable": true
   },
   "outputs": [
    {
     "data": {
      "text/plain": [
       "array([[ 55.657941,  37.751574],\n",
       "       [ 53.202017,  50.141377],\n",
       "       [ 59.843376,  30.23148 ],\n",
       "       ..., \n",
       "       [ 55.76363 ,  37.597046],\n",
       "       [ 56.002732,  37.209755],\n",
       "       [ 47.225695,  39.72997 ]])"
      ]
     },
     "execution_count": 18,
     "metadata": {},
     "output_type": "execute_result"
    }
   ],
   "source": [
    "x\n"
   ]
  },
  {
   "cell_type": "markdown",
   "metadata": {
    "deletable": true,
    "editable": true
   },
   "source": [
    "Применим критерий для выбора параметров алгоритма. Предлагается изменить следующий код таким образом, чтобы кластеризация вызывалась с верным набором параметров. На графике можно будет увидеть зависимость критерия от параметров алгоритма. Необходимо выбрать оптимальные значения этих параметров."
   ]
  },
  {
   "cell_type": "code",
   "execution_count": 54,
   "metadata": {
    "collapsed": false,
    "deletable": true,
    "editable": true
   },
   "outputs": [
    {
     "data": {
      "image/png": "[encoded data removed]",
      "text/plain": [
       "<matplotlib.figure.Figure at 0x7f9237861b90>"
      ]
     },
     "metadata": {},
     "output_type": "display_data"
    }
   ],
   "source": [
    "ks = range(2, 21)\n",
    "criteria = np.zeros(len(ks))\n",
    "y = []\n",
    "X = x[:100]\n",
    "for i, k in enumerate(ks):\n",
    "    cls = Clustering()\n",
    "    y = cls.fit_predict(X,y,'single',k)\n",
    "    criteria[i] = quality(X, y)\n",
    "    \n",
    "pl.figure(figsize=(8, 6))\n",
    "pl.plot(ks, criteria)\n",
    "pl.title(\"$J(k)$\")\n",
    "pl.ylabel(\"Criteria $J$\")\n",
    "pl.xlabel(\"Number of clusters $k$\")\n",
    "pl.grid()\n",
    "pl.show()"
   ]
  },
  {
   "cell_type": "markdown",
   "metadata": {
    "deletable": true,
    "editable": true
   },
   "source": [
    "Далее необходимо кластеризовать данные, используя выбранное количество кластеров, и визуализировать результат с помощью T-SNE. Внимание! На полном объеме данных данный алгоритм может работать существенное время. "
   ]
  },
  {
   "cell_type": "code",
   "execution_count": 59,
   "metadata": {
    "collapsed": false,
    "deletable": true,
    "editable": true
   },
   "outputs": [
    {
     "data": {
      "text/plain": [
       "array([0, 0, 1, 0, 2, 2, 0, 0, 0, 0, 2, 1, 1, 1, 0, 0, 0, 2, 1, 0, 0, 0, 0,\n",
       "       0, 0, 0, 0, 0, 0, 0, 2, 0, 0, 0, 0, 1, 0, 3, 0, 3, 0, 0, 0, 0, 0, 0,\n",
       "       0, 0, 0, 0, 0, 0, 0, 1, 1, 0, 0, 0, 0, 0, 0, 1, 0, 0, 0, 0, 0, 0, 0,\n",
       "       0, 0, 0, 0, 1, 0, 4, 0, 0, 0, 0, 1, 0, 1, 0, 0, 0, 0, 1, 0, 0, 1, 0,\n",
       "       0, 0, 0, 0, 3, 0, 0, 1, 0, 0, 0, 1, 0, 0, 0, 1, 0, 0, 0, 0, 0, 0, 0,\n",
       "       0, 0, 0, 0, 0, 1, 1, 0, 0, 0, 0, 0, 0, 1, 0, 0, 0, 1, 0, 0, 0, 0, 0,\n",
       "       0, 1, 0, 0, 0, 0, 0, 0, 0, 1, 1, 0, 2, 0, 2, 0, 0, 0, 2, 2, 0, 0, 1,\n",
       "       0, 0, 0, 0, 1, 1, 0, 0, 0, 0, 1, 0, 1, 1, 1, 0, 4, 1, 0, 0, 0, 1, 0,\n",
       "       0, 0, 2, 1, 1, 0, 0, 0, 0, 0, 1, 0, 0, 1, 0, 1, 0, 1, 1, 1, 0, 0, 0,\n",
       "       3, 0, 0, 1, 1, 0, 0, 0, 0, 1, 1, 0, 0, 0, 0, 1, 0, 0, 0, 0, 1, 0, 0,\n",
       "       2, 0, 0, 0, 0, 1, 1, 1, 1, 0, 1, 0, 0, 0, 1, 0, 0, 0, 0, 1, 0, 0, 0,\n",
       "       0, 0, 0, 0, 0, 0, 0, 0, 0, 0, 0, 0, 0, 0, 0, 0, 0, 0, 0, 0, 0, 0, 0,\n",
       "       0, 0, 0, 0, 1, 1, 0, 1, 1, 1, 1, 1, 1, 1, 1, 1, 0, 0, 1, 0, 0, 0, 0,\n",
       "       0])"
      ]
     },
     "execution_count": 59,
     "metadata": {},
     "output_type": "execute_result"
    }
   ],
   "source": [
    "k = 5\n",
    "X = x[:300]\n",
    "cls = Clustering()\n",
    "y = cls.fit_predict(X,y,'single',k)\n",
    "y"
   ]
  },
  {
   "cell_type": "code",
   "execution_count": 64,
   "metadata": {
    "collapsed": false
   },
   "outputs": [
    {
     "data": {
      "text/plain": [
       "(300, 2)"
      ]
     },
     "execution_count": 64,
     "metadata": {},
     "output_type": "execute_result"
    }
   ],
   "source": [
    "X.shape"
   ]
  },
  {
   "cell_type": "markdown",
   "metadata": {
    "deletable": true,
    "editable": true
   },
   "source": [
    "Визуализируем кластеризацию на карте"
   ]
  },
  {
   "cell_type": "code",
   "execution_count": 65,
   "metadata": {
    "collapsed": false,
    "deletable": true,
    "editable": true
   },
   "outputs": [
    {
     "data": {
      "image/png": "[encoded data removed]",
      "text/plain": [
       "<matplotlib.figure.Figure at 0x7f9237573810>"
      ]
     },
     "metadata": {},
     "output_type": "display_data"
    }
   ],
   "source": [
    "\n",
    "pl.figure(figsize=(20,12))\n",
    "\n",
    "m = bm.Basemap(projection='cyl', llcrnrlat=min(X[:, 0]) - 5, urcrnrlat=max(X[:, 0]) + 5, llcrnrlon=min(X[:, 1]) - 5, urcrnrlon=max(X[:, 1]) + 5, resolution='c')\n",
    "\n",
    "m.drawcountries(linewidth=0.2)\n",
    "m.fillcontinents(color='lavender', lake_color='#000040')\n",
    "m.drawmapboundary(linewidth=0.2, fill_color='#000040')\n",
    "m.drawparallels(np.arange(-90,90,30),labels=[0,0,0,0], color='white', linewidth=0.5)\n",
    "m.drawmeridians(np.arange(0,360,30),labels=[0,0,0,0], color='white', linewidth=0.5)\n",
    "\n",
    "m.scatter(X[:, 1], X[:,0], c=y, zorder=10)\n",
    "    \n",
    "pl.show()"
   ]
  },
  {
   "cell_type": "markdown",
   "metadata": {
    "deletable": true,
    "editable": true
   },
   "source": [
    "Визуализируйте интересные участки (может быть это Москва) в приближенном виде. Постройте 3 (или более, в зависимости от данных, что вам самим бы хотелось увидеть ближе) увеличенных изображений карты с кластеризацией."
   ]
  },
  {
   "cell_type": "code",
   "execution_count": 71,
   "metadata": {
    "collapsed": true,
    "deletable": true,
    "editable": true
   },
   "outputs": [],
   "source": [
    "# your code with maps here\n"
   ]
  },
  {
   "cell_type": "code",
   "execution_count": null,
   "metadata": {
    "collapsed": false
   },
   "outputs": [],
   "source": []
  },
  {
   "cell_type": "markdown",
   "metadata": {},
   "source": []
  },
  {
   "cell_type": "markdown",
   "metadata": {
    "deletable": true,
    "editable": true
   },
   "source": [
    "Какой вывод можно сделать о качестве кластеризации?"
   ]
  },
  {
   "cell_type": "markdown",
   "metadata": {
    "deletable": true,
    "editable": true
   },
   "source": [
    "Поздравляем, Вы завершили домашние задания по модулю \"Алгоритмы кластеризации\". Надеемся, что это было интересно."
   ]
  }
 ],
 "metadata": {
  "kernelspec": {
   "display_name": "Python 2",
   "language": "python",
   "name": "python2"
  },
  "language_info": {
   "codemirror_mode": {
    "name": "ipython",
    "version": 2
   },
   "file_extension": ".py",
   "mimetype": "text/x-python",
   "name": "python",
   "nbconvert_exporter": "python",
   "pygments_lexer": "ipython2",
   "version": "2.7.13"
  }
 },
 "nbformat": 4,
 "nbformat_minor": 0
}
